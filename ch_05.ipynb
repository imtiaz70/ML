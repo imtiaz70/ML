{
 "cells": [
  {
   "cell_type": "code",
   "execution_count": null,
   "metadata": {},
   "outputs": [],
   "source": [
    "import numpy as np\n",
    "import pandas as pd\n",
    "import matplotlib.pyplot as plt\n",
    "np.random.seed(2)\n",
    "\n",
    "\n",
    "x = np.random.normal(3,1,100)\n",
    "y = np.random.normal(150,40,100)/x\n",
    "\n",
    "plt.scatter(x,y)\n",
    "plt.title(\"Random Normal data Set\")\n",
    "plt.show()\n",
    "\n",
    "train_x = x[:80]\n",
    "train_y = y[:80]\n",
    "\n",
    "test_x = x[80:]\n",
    "test_y = y[80:]\n",
    "\n",
    "# Displaying training Set\n",
    "\n",
    "plt.scatter(train_x,train_y)\n",
    "plt.title(\"Displaying training Set\")\n",
    "plt.show()\n",
    "\n",
    "# Displaying training Set\n",
    "plt.scatter(test_x,test_y)\n",
    "plt.title(\"Displaying training Set\")\n",
    "plt.show()\n",
    "\n",
    "# Fitting data Set\n",
    "mymodel = np.poly1d(np.polyfit(train_x,train_y,4))\n",
    "myLine = np.linspace(0,6,100)\n",
    "plt.plot(myLine,mymodel(myLine))\n",
    "plt.scatter(train_x,train_y)\n",
    "plt.title(\"Fitting Data set\")\n",
    "plt.show()\n",
    "\n"
   ]
  },
  {
   "cell_type": "code",
   "execution_count": 5,
   "metadata": {},
   "outputs": [
    {
     "ename": "ModuleNotFoundError",
     "evalue": "No module named 'sklearn'",
     "output_type": "error",
     "traceback": [
      "\u001b[0;31m---------------------------------------------------------------------------\u001b[0m",
      "\u001b[0;31mModuleNotFoundError\u001b[0m                       Traceback (most recent call last)",
      "\u001b[1;32m/Users/muhammadimtiazanwar/Downloads/learningPython/ML/ch_05.ipynb Cell 2'\u001b[0m in \u001b[0;36m<cell line: 9>\u001b[0;34m()\u001b[0m\n\u001b[1;32m      <a href='vscode-notebook-cell:/Users/muhammadimtiazanwar/Downloads/learningPython/ML/ch_05.ipynb#ch0000001?line=5'>6</a>\u001b[0m np\u001b[39m.\u001b[39mrandom\u001b[39m.\u001b[39mseed(\u001b[39m2\u001b[39m)\n\u001b[1;32m      <a href='vscode-notebook-cell:/Users/muhammadimtiazanwar/Downloads/learningPython/ML/ch_05.ipynb#ch0000001?line=7'>8</a>\u001b[0m \u001b[39m# from sklearn import linear_model\u001b[39;00m\n\u001b[0;32m----> <a href='vscode-notebook-cell:/Users/muhammadimtiazanwar/Downloads/learningPython/ML/ch_05.ipynb#ch0000001?line=8'>9</a>\u001b[0m \u001b[39mfrom\u001b[39;00m \u001b[39msklearn\u001b[39;00m\u001b[39m.\u001b[39;00m\u001b[39mmetrics\u001b[39;00m \u001b[39mimport\u001b[39;00m r2_score\n",
      "\u001b[0;31mModuleNotFoundError\u001b[0m: No module named 'sklearn'"
     ]
    }
   ],
   "source": [
    "# R2 R-Squared Score\n",
    "import numpy as np\n",
    "import pandas as pd\n",
    "import matplotlib.pyplot as plt\n",
    "import seaborn as sns\n",
    "np.random.seed(2)\n",
    "\n",
    "# from sklearn import linear_model\n",
    "from sklearn.metrics import r2_score\n",
    "# from sklearn.metrics import r2_score"
   ]
  },
  {
   "cell_type": "code",
   "execution_count": null,
   "metadata": {},
   "outputs": [],
   "source": []
  },
  {
   "cell_type": "code",
   "execution_count": null,
   "metadata": {},
   "outputs": [],
   "source": []
  }
 ],
 "metadata": {
  "kernelspec": {
   "display_name": "Python 3.10.4 64-bit",
   "language": "python",
   "name": "python3"
  },
  "language_info": {
   "codemirror_mode": {
    "name": "ipython",
    "version": 3
   },
   "file_extension": ".py",
   "mimetype": "text/x-python",
   "name": "python",
   "nbconvert_exporter": "python",
   "pygments_lexer": "ipython3",
   "version": "3.10.4"
  },
  "orig_nbformat": 4,
  "vscode": {
   "interpreter": {
    "hash": "aee8b7b246df8f9039afb4144a1f6fd8d2ca17a180786b69acc140d282b71a49"
   }
  }
 },
 "nbformat": 4,
 "nbformat_minor": 2
}
