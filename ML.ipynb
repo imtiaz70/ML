{
 "cells": [
  {
   "cell_type": "markdown",
   "id": "521ea231",
   "metadata": {},
   "source": [
    "# Learning Machine Learning "
   ]
  },
  {
   "cell_type": "code",
   "execution_count": 1,
   "id": "b39c211b",
   "metadata": {},
   "outputs": [],
   "source": [
    "# import numpy as np\n",
    "# import pandas as pd\n",
    "# import seaborn as sns\n",
    "# import matplotlib.pyplot as plt\n",
    "\n",
    "# # Importing libraries\n",
    "# from sklearn.model_selection import train_test_split\n",
    "# from sklearn.linear_model import LinearRegression\n",
    "\n",
    "# #STEP_01 import data Set\n",
    "# dataSet = pd.read_csv(\"ml_data_salary.csv\")\n",
    "\n",
    "# print(dataSet.isnull().sum())\n",
    "\n",
    "\n"
   ]
  },
  {
   "cell_type": "code",
   "execution_count": 2,
   "id": "7f4ddb3e",
   "metadata": {},
   "outputs": [],
   "source": [
    "# from sklearn.linear_model import LinearRegression\n",
    "\n",
    "# #STEP_02 splitting data in into testing(20%) and training(80%)\n",
    "# X = dataSet[[\"age\"]]\n",
    "# y = dataSet['weight']\n",
    "# x_train , x_test ,  y_train , y_test  = train_test_split(X , y , train_size=0.2 , random_state=0)\n",
    "\n",
    "# # Fit Linear Regression model\n",
    "# model = LinearRegression().fit(x_train , y_train)\n",
    "# # prediction = model.predict(x_test)\n",
    "# # prediction\n",
    "\n",
    "# # plt.scatter(x_train,y_train)\n",
    "# # plt.plot(model.predict(x_test))\n",
    "\n",
    "# print(\"prediction a 33 \\n \",model.predict([[33]]))\n",
    "\n",
    "# # print(model.score(x_test,y_test))\n",
    "# # print(model.score(x_train,y_train))\n"
   ]
  },
  {
   "cell_type": "code",
   "execution_count": 3,
   "id": "282d74d3",
   "metadata": {},
   "outputs": [
    {
     "name": "stdout",
     "output_type": "stream",
     "text": [
      "[-0.50868508]\n"
     ]
    },
    {
     "name": "stderr",
     "output_type": "stream",
     "text": [
      "/opt/anaconda3/lib/python3.9/site-packages/sklearn/base.py:450: UserWarning: X does not have valid feature names, but LinearRegression was fitted with feature names\n",
      "  warnings.warn(\n"
     ]
    }
   ],
   "source": [
    "# import numpy as np\n",
    "# import pandas as pd\n",
    "# import matplotlib.pyplot as plt\n",
    "# from sklearn.linear_model import LinearRegression\n",
    "\n",
    "# df = pd.read_csv('iris.data')\n",
    "# X = df[['5.1','3.5']]\n",
    "# y = df['0.2']\n",
    "# model = LinearRegression().fit(X,y)\n",
    "# print(model.predict([[2.22,1.11]]))\n",
    "# # plt.plot(X,y)\n"
   ]
  },
  {
   "cell_type": "markdown",
   "id": "c47d9c17",
   "metadata": {},
   "source": [
    "### Decision Tree"
   ]
  },
  {
   "cell_type": "code",
   "execution_count": 28,
   "id": "319641bb",
   "metadata": {},
   "outputs": [
    {
     "name": "stdout",
     "output_type": "stream",
     "text": [
      "[['Spain' 27.0 48000.0]\n",
      " ['Germany' 30.0 54000.0]\n",
      " ['Spain' 38.0 61000.0]\n",
      " ['Germany' 40.0 nan]\n",
      " ['France' 35.0 58000.0]\n",
      " ['Spain' nan 52000.0]\n",
      " ['France' 48.0 79000.0]\n",
      " ['Germany' 50.0 83000.0]\n",
      " ['France' 37.0 67000.0]]\n"
     ]
    }
   ],
   "source": [
    "import numpy as np\n",
    "import pandas as pd\n",
    "import seaborn as sns\n",
    "import matplotlib.pyplot as plt\n",
    "from sklearn.impute import SimpleImputer\n",
    "\n",
    "\n",
    "dataSet = pd.read_csv('Data.csv')\n",
    "\n",
    "X = dataSet.iloc[1:,:-1].values\n",
    "y = dataSet.iloc[:,-1].values\n",
    "\n",
    "# imputer = SimpleImputer(missing_values=np.nan , strategy='mean')\n",
    "# imputer.fit(X)\n",
    "print(X)\n",
    "\n"
   ]
  },
  {
   "cell_type": "code",
   "execution_count": null,
   "id": "65e02d38",
   "metadata": {},
   "outputs": [],
   "source": []
  }
 ],
 "metadata": {
  "kernelspec": {
   "display_name": "Python 3 (ipykernel)",
   "language": "python",
   "name": "python3"
  },
  "language_info": {
   "codemirror_mode": {
    "name": "ipython",
    "version": 3
   },
   "file_extension": ".py",
   "mimetype": "text/x-python",
   "name": "python",
   "nbconvert_exporter": "python",
   "pygments_lexer": "ipython3",
   "version": "3.9.12"
  },
  "vscode": {
   "interpreter": {
    "hash": "40d3a090f54c6569ab1632332b64b2c03c39dcf918b08424e98f38b5ae0af88f"
   }
  }
 },
 "nbformat": 4,
 "nbformat_minor": 5
}
