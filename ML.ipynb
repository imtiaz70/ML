{
 "cells": [
  {
   "cell_type": "markdown",
   "id": "521ea231",
   "metadata": {},
   "source": [
    "# Learning Machine Learning "
   ]
  },
  {
   "cell_type": "code",
   "execution_count": null,
   "id": "b39c211b",
   "metadata": {},
   "outputs": [],
   "source": [
    "# import numpy as np\n",
    "# import pandas as pd\n",
    "# import seaborn as sns\n",
    "# import matplotlib.pyplot as plt\n",
    "\n",
    "# # Importing libraries\n",
    "# from sklearn.model_selection import train_test_split\n",
    "# from sklearn.linear_model import LinearRegression\n",
    "\n",
    "# #STEP_01 import data Set\n",
    "# dataSet = pd.read_csv(\"ml_data_salary.csv\")\n",
    "\n",
    "# print(dataSet.isnull().sum())\n",
    "\n",
    "\n"
   ]
  },
  {
   "cell_type": "code",
   "execution_count": null,
   "id": "7f4ddb3e",
   "metadata": {},
   "outputs": [],
   "source": [
    "# from sklearn.linear_model import LinearRegression\n",
    "\n",
    "# #STEP_02 splitting data in into testing(20%) and training(80%)\n",
    "# X = dataSet[[\"age\"]]\n",
    "# y = dataSet['weight']\n",
    "# x_train , x_test ,  y_train , y_test  = train_test_split(X , y , train_size=0.2 , random_state=0)\n",
    "\n",
    "# # Fit Linear Regression model\n",
    "# model = LinearRegression().fit(x_train , y_train)\n",
    "# # prediction = model.predict(x_test)\n",
    "# # prediction\n",
    "\n",
    "# # plt.scatter(x_train,y_train)\n",
    "# # plt.plot(model.predict(x_test))\n",
    "\n",
    "# print(\"prediction a 33 \\n \",model.predict([[33]]))\n",
    "\n",
    "# # print(model.score(x_test,y_test))\n",
    "# # print(model.score(x_train,y_train))\n"
   ]
  },
  {
   "cell_type": "code",
   "execution_count": null,
   "id": "282d74d3",
   "metadata": {},
   "outputs": [],
   "source": [
    "# import numpy as np\n",
    "# import pandas as pd\n",
    "# import matplotlib.pyplot as plt\n",
    "# from sklearn.linear_model import LinearRegression\n",
    "\n",
    "# df = pd.read_csv('iris.data')\n",
    "# X = df[['5.1','3.5']]\n",
    "# y = df['0.2']\n",
    "# model = LinearRegression().fit(X,y)\n",
    "# print(model.predict([[2.22,1.11]]))\n",
    "# # plt.plot(X,y)\n"
   ]
  },
  {
   "cell_type": "markdown",
   "id": "c47d9c17",
   "metadata": {},
   "source": [
    "### Decision Tree"
   ]
  },
  {
   "cell_type": "code",
   "execution_count": null,
   "id": "319641bb",
   "metadata": {},
   "outputs": [],
   "source": [
    "import numpy as np\n",
    "import pandas as pd\n",
    "import seaborn as sns\n",
    "import matplotlib.pyplot as plt\n",
    "from sklearn.impute import SimpleImputer\n",
    "\n",
    "\n",
    "dataSet = pd.read_csv('Data.csv')\n",
    "\n",
    "X = dataSet.iloc[1:,:-1].values\n",
    "y = dataSet.iloc[:,-1].values\n",
    "\n",
    "# imputer = SimpleImputer(missing_values=np.nan , strategy='mean')\n",
    "# imputer.fit(X)\n",
    "print(X)\n",
    "\n"
   ]
  },
  {
   "cell_type": "markdown",
   "id": "65e02d38",
   "metadata": {},
   "source": [
    "# Data Preprocessing Tools CH_03"
   ]
  },
  {
   "cell_type": "markdown",
   "id": "1ee1ea56",
   "metadata": {},
   "source": [
    "# Importing the libraries"
   ]
  },
  {
   "cell_type": "code",
   "execution_count": null,
   "id": "251a61b7",
   "metadata": {},
   "outputs": [],
   "source": [
    "import numpy as np\n",
    "import matplotlib.pyplot as plt\n",
    "import pandas as pd\n"
   ]
  },
  {
   "cell_type": "markdown",
   "id": "a508c9e3",
   "metadata": {},
   "source": [
    "# Importing the dataset"
   ]
  },
  {
   "cell_type": "code",
   "execution_count": 64,
   "id": "248988be",
   "metadata": {},
   "outputs": [
    {
     "name": "stdout",
     "output_type": "stream",
     "text": [
      "[['France' 44.0 72000.0]\n",
      " ['Spain' 27.0 48000.0]\n",
      " ['Germany' 30.0 54000.0]\n",
      " ['Spain' 38.0 61000.0]\n",
      " ['Germany' 40.0 nan]\n",
      " ['France' 35.0 58000.0]\n",
      " ['Spain' nan 52000.0]\n",
      " ['France' 48.0 79000.0]\n",
      " ['Germany' 50.0 83000.0]\n",
      " ['France' 37.0 67000.0]]\n",
      "['No' 'Yes' 'No' 'No' 'Yes' 'Yes' 'No' 'Yes' 'No' 'Yes']\n"
     ]
    }
   ],
   "source": [
    "dataset = pd.read_csv('Data.csv')\n",
    "\n",
    "X = dataset.iloc[:,:-1].values\n",
    "y = dataset.iloc[:, -1].values\n",
    "\n",
    "print(X)\n",
    "print(y)"
   ]
  },
  {
   "cell_type": "markdown",
   "id": "a4cdc5e2",
   "metadata": {},
   "source": [
    "# Taking care of missing data"
   ]
  },
  {
   "cell_type": "code",
   "execution_count": null,
   "id": "cf0137c0",
   "metadata": {},
   "outputs": [],
   "source": [
    "from sklearn.impute import SimpleImputer\n",
    "imputer = SimpleImputer(missing_values=np.nan, strategy='mean')\n",
    "imputer.fit(X[:, 1:3])\n",
    "X[:, 1:3] = imputer.transform(X[:, 1:3])\n",
    "print(X)\n"
   ]
  },
  {
   "cell_type": "code",
   "execution_count": null,
   "id": "8eb72522",
   "metadata": {},
   "outputs": [],
   "source": []
  }
 ],
 "metadata": {
  "kernelspec": {
   "display_name": "Python 3 (ipykernel)",
   "language": "python",
   "name": "python3"
  },
  "language_info": {
   "codemirror_mode": {
    "name": "ipython",
    "version": 3
   },
   "file_extension": ".py",
   "mimetype": "text/x-python",
   "name": "python",
   "nbconvert_exporter": "python",
   "pygments_lexer": "ipython3",
   "version": "3.9.12"
  },
  "vscode": {
   "interpreter": {
    "hash": "40d3a090f54c6569ab1632332b64b2c03c39dcf918b08424e98f38b5ae0af88f"
   }
  }
 },
 "nbformat": 4,
 "nbformat_minor": 5
}
