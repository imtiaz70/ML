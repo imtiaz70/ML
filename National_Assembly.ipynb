{
 "cells": [
  {
   "cell_type": "markdown",
   "metadata": {},
   "source": [
    "###  EDA on National Assembly Data"
   ]
  },
  {
   "cell_type": "code",
   "execution_count": 24,
   "metadata": {},
   "outputs": [
    {
     "data": {
      "text/plain": [
       "0        (Notice Office)\n",
       "1                    NaN\n",
       "2                    NaN\n",
       "3           Constituency\n",
       "4                   NA-1\n",
       "              ...       \n",
       "37242      Reserved Seat\n",
       "37243      Reserved Seat\n",
       "37244      Reserved Seat\n",
       "37245      Reserved Seat\n",
       "37246      Reserved Seat\n",
       "Name: Unnamed: 1, Length: 37247, dtype: object"
      ]
     },
     "execution_count": 24,
     "metadata": {},
     "output_type": "execute_result"
    }
   ],
   "source": [
    "import numpy as np\n",
    "import pandas as pd\n",
    "import matplotlib.pyplot as plt\n",
    "from sklearn.linear_model import LinearRegression\n",
    "\n",
    "dataFrame = pd.read_excel('Attendence_of_Members.xls')\n",
    "x = dataFrame['NATIONAL\\xa0ASSEMBLY\\xa0SECRETARAIT']\n",
    "y = dataFrame['Unnamed: 1']\n",
    "y\n",
    "# plt.scatter(x,y)\n"
   ]
  },
  {
   "cell_type": "code",
   "execution_count": null,
   "metadata": {},
   "outputs": [],
   "source": []
  }
 ],
 "metadata": {
  "kernelspec": {
   "display_name": "Python 3.10.5 64-bit",
   "language": "python",
   "name": "python3"
  },
  "language_info": {
   "codemirror_mode": {
    "name": "ipython",
    "version": 3
   },
   "file_extension": ".py",
   "mimetype": "text/x-python",
   "name": "python",
   "nbconvert_exporter": "python",
   "pygments_lexer": "ipython3",
   "version": "3.10.5"
  },
  "orig_nbformat": 4,
  "vscode": {
   "interpreter": {
    "hash": "aee8b7b246df8f9039afb4144a1f6fd8d2ca17a180786b69acc140d282b71a49"
   }
  }
 },
 "nbformat": 4,
 "nbformat_minor": 2
}
