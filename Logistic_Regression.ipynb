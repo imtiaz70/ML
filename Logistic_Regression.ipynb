{
 "cells": [
  {
   "cell_type": "code",
   "execution_count": 22,
   "metadata": {},
   "outputs": [
    {
     "name": "stdout",
     "output_type": "stream",
     "text": [
      "[[63  5]\n",
      " [ 6 26]]\n"
     ]
    },
    {
     "ename": "IndexError",
     "evalue": "index 1 is out of bounds for axis 1 with size 1",
     "output_type": "error",
     "traceback": [
      "\u001b[0;31m---------------------------------------------------------------------------\u001b[0m",
      "\u001b[0;31mIndexError\u001b[0m                                Traceback (most recent call last)",
      "\u001b[1;32m/Users/muhammadimtiazanwar/Downloads/learningPython/ML/Logistic_Regression.ipynb Cell 1\u001b[0m in \u001b[0;36m<cell line: 35>\u001b[0;34m()\u001b[0m\n\u001b[1;32m     <a href='vscode-notebook-cell:/Users/muhammadimtiazanwar/Downloads/learningPython/ML/Logistic_Regression.ipynb#ch0000000?line=32'>33</a>\u001b[0m \u001b[39mfrom\u001b[39;00m \u001b[39mmatplotlib\u001b[39;00m\u001b[39m.\u001b[39;00m\u001b[39mcolors\u001b[39;00m \u001b[39mimport\u001b[39;00m ListedColormap\n\u001b[1;32m     <a href='vscode-notebook-cell:/Users/muhammadimtiazanwar/Downloads/learningPython/ML/Logistic_Regression.ipynb#ch0000000?line=33'>34</a>\u001b[0m X_Set, Y_Set \u001b[39m=\u001b[39m X_Train, Y_Train\n\u001b[1;32m     <a href='vscode-notebook-cell:/Users/muhammadimtiazanwar/Downloads/learningPython/ML/Logistic_Regression.ipynb#ch0000000?line=34'>35</a>\u001b[0m X1, X2 \u001b[39m=\u001b[39m np\u001b[39m.\u001b[39mmeshgrid(np\u001b[39m.\u001b[39marange(start \u001b[39m=\u001b[39m X_Set[:,\u001b[39m0\u001b[39m]\u001b[39m.\u001b[39mmin() \u001b[39m-\u001b[39m\u001b[39m1\u001b[39m, stop \u001b[39m=\u001b[39m X_Set[:, \u001b[39m0\u001b[39m]\u001b[39m.\u001b[39mmax() \u001b[39m+\u001b[39m\u001b[39m1\u001b[39m, step \u001b[39m=\u001b[39m \u001b[39m0.01\u001b[39m),\n\u001b[0;32m---> <a href='vscode-notebook-cell:/Users/muhammadimtiazanwar/Downloads/learningPython/ML/Logistic_Regression.ipynb#ch0000000?line=35'>36</a>\u001b[0m                      np\u001b[39m.\u001b[39marange(start \u001b[39m=\u001b[39m X_Set[:,\u001b[39m1\u001b[39;49m]\u001b[39m.\u001b[39mmin() \u001b[39m-\u001b[39m\u001b[39m1\u001b[39m, stop \u001b[39m=\u001b[39m X_Set[:, \u001b[39m1\u001b[39m]\u001b[39m.\u001b[39mmax() \u001b[39m+\u001b[39m\u001b[39m1\u001b[39m, step \u001b[39m=\u001b[39m \u001b[39m0.01\u001b[39m))\n",
      "\u001b[0;31mIndexError\u001b[0m: index 1 is out of bounds for axis 1 with size 1"
     ]
    }
   ],
   "source": [
    "import numpy as np\n",
    "import pandas as pd\n",
    "import matplotlib.pyplot as plt\n",
    "from sklearn.linear_model import LogisticRegression\n",
    "from sklearn.model_selection import train_test_split\n",
    "\n",
    "dataFrame = pd.read_csv(\"Social_Network_Ads.csv\")\n",
    "dataFrame.head()\n",
    "X = dataFrame.iloc[:,2:3]\n",
    "y = dataFrame.iloc[:,4]\n",
    "# Spliting Data Set\n",
    "X_Train , X_Test ,Y_Train , Y_Test = train_test_split(X,y,test_size=0.25 , random_state=0)\n",
    "# feature Scaling\n",
    "from sklearn.preprocessing import StandardScaler\n",
    "sc_X = StandardScaler()\n",
    "X_Train = sc_X.fit_transform(X_Train)\n",
    "X_Test = sc_X.fit_transform(X_Test)\n",
    "\n",
    "#Fitting the logistic regression\n",
    "classifier = LogisticRegression(random_state=0)\n",
    "classifier.fit(X_Train , Y_Train)\n",
    "\n",
    "# Predicting the Test set Results\n",
    "Y_Pred = classifier.predict(X_Test)\n",
    "# print(Y_Pred)\n",
    "\n",
    "# Making the Confusion Matrix\n",
    "from sklearn.metrics import confusion_matrix\n",
    "cm = confusion_matrix(Y_Test , Y_Pred)\n",
    "print(cm)\n",
    "\n",
    "# Visualising the test set\n",
    "from matplotlib.colors import ListedColormap\n",
    "X_Set, Y_Set = X_Train, Y_Train\n",
    "X1, X2 = np.meshgrid(np.arange(start = X_Set[:,0].min() -1, stop = X_Set[:, 0].max() +1, step = 0.01),\n",
    "                     np.arange(start = X_Set[:,1].min() -1, stop = X_Set[:, 1].max() +1, step = 0.01))\n"
   ]
  },
  {
   "cell_type": "markdown",
   "metadata": {},
   "source": []
  },
  {
   "cell_type": "markdown",
   "metadata": {},
   "source": []
  }
 ],
 "metadata": {
  "kernelspec": {
   "display_name": "Python 3.10.5 64-bit",
   "language": "python",
   "name": "python3"
  },
  "language_info": {
   "codemirror_mode": {
    "name": "ipython",
    "version": 3
   },
   "file_extension": ".py",
   "mimetype": "text/x-python",
   "name": "python",
   "nbconvert_exporter": "python",
   "pygments_lexer": "ipython3",
   "version": "3.10.5"
  },
  "orig_nbformat": 4,
  "vscode": {
   "interpreter": {
    "hash": "aee8b7b246df8f9039afb4144a1f6fd8d2ca17a180786b69acc140d282b71a49"
   }
  }
 },
 "nbformat": 4,
 "nbformat_minor": 2
}
