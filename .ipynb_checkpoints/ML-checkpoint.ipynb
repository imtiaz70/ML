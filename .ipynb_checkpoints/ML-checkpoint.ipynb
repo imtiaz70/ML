{
 "cells": [
  {
   "cell_type": "markdown",
   "id": "521ea231",
   "metadata": {},
   "source": [
    "# Learning Machine Learning "
   ]
  },
  {
   "cell_type": "code",
   "execution_count": null,
   "id": "b39c211b",
   "metadata": {},
   "outputs": [],
   "source": [
    "# import numpy as np\n",
    "# import pandas as pd\n",
    "# import seaborn as sns\n",
    "# import matplotlib.pyplot as plt\n",
    "\n",
    "# # Importing libraries\n",
    "# from sklearn.model_selection import train_test_split\n",
    "# from sklearn.linear_model import LinearRegression\n",
    "\n",
    "# #STEP_01 import data Set\n",
    "# dataSet = pd.read_csv(\"ml_data_salary.csv\")\n",
    "\n",
    "# print(dataSet.isnull().sum())\n",
    "\n",
    "\n"
   ]
  },
  {
   "cell_type": "code",
   "execution_count": null,
   "id": "7f4ddb3e",
   "metadata": {},
   "outputs": [],
   "source": [
    "# from sklearn.linear_model import LinearRegression\n",
    "\n",
    "# #STEP_02 splitting data in into testing(20%) and training(80%)\n",
    "# X = dataSet[[\"age\"]]\n",
    "# y = dataSet['weight']\n",
    "# x_train , x_test ,  y_train , y_test  = train_test_split(X , y , train_size=0.2 , random_state=0)\n",
    "\n",
    "# # Fit Linear Regression model\n",
    "# model = LinearRegression().fit(x_train , y_train)\n",
    "# # prediction = model.predict(x_test)\n",
    "# # prediction\n",
    "\n",
    "# # plt.scatter(x_train,y_train)\n",
    "# # plt.plot(model.predict(x_test))\n",
    "\n",
    "# print(\"prediction a 33 \\n \",model.predict([[33]]))\n",
    "\n",
    "# # print(model.score(x_test,y_test))\n",
    "# # print(model.score(x_train,y_train))\n"
   ]
  },
  {
   "cell_type": "code",
   "execution_count": 3,
   "id": "282d74d3",
   "metadata": {},
   "outputs": [],
   "source": [
    "import numpy as np\n",
    "import pandas as pd\n",
    "import matplotlib.pyplot as plt\n",
    "from sklearn.linear_model import LinearRegression\n"
   ]
  },
  {
   "cell_type": "code",
   "execution_count": null,
   "id": "c47d9c17",
   "metadata": {},
   "outputs": [],
   "source": []
  }
 ],
 "metadata": {
  "kernelspec": {
   "display_name": "Python 3 (ipykernel)",
   "language": "python",
   "name": "python3"
  },
  "language_info": {
   "codemirror_mode": {
    "name": "ipython",
    "version": 3
   },
   "file_extension": ".py",
   "mimetype": "text/x-python",
   "name": "python",
   "nbconvert_exporter": "python",
   "pygments_lexer": "ipython3",
   "version": "3.9.12"
  },
  "vscode": {
   "interpreter": {
    "hash": "40d3a090f54c6569ab1632332b64b2c03c39dcf918b08424e98f38b5ae0af88f"
   }
  }
 },
 "nbformat": 4,
 "nbformat_minor": 5
}
