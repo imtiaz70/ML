{
 "cells": [
  {
   "cell_type": "code",
   "execution_count": null,
   "metadata": {},
   "outputs": [],
   "source": [
    "# import numpy as np\n",
    "# import pandas as pd\n",
    "# import matplotlib.pyplot as plt\n",
    "# np.random.seed(2)\n",
    "\n",
    "\n",
    "# x = np.random.normal(3,1,100)\n",
    "# y = np.random.normal(150,40,100)/x\n",
    "\n",
    "# plt.scatter(x,y)\n",
    "# plt.title(\"Random Normal data Set\")\n",
    "# plt.show()\n",
    "\n",
    "# train_x = x[:80]\n",
    "# train_y = y[:80]\n",
    "\n",
    "# test_x = x[80:]\n",
    "# test_y = y[80:]\n",
    "\n",
    "# # Displaying training Set\n",
    "\n",
    "# plt.scatter(train_x,train_y)\n",
    "# plt.title(\"Displaying training Set\")\n",
    "# plt.show()\n",
    "\n",
    "# # Displaying training Set\n",
    "# plt.scatter(test_x,test_y)\n",
    "# plt.title(\"Displaying training Set\")\n",
    "# plt.show()\n",
    "\n",
    "# # Fitting data Set\n",
    "# mymodel = np.poly1d(np.polyfit(train_x,train_y,4))\n",
    "# myLine = np.linspace(0,6,100)\n",
    "# plt.plot(myLine,mymodel(myLine))\n",
    "# plt.scatter(train_x,train_y)\n",
    "# plt.title(\"Fitting Data set\")\n",
    "# plt.show()\n",
    "\n"
   ]
  },
  {
   "cell_type": "code",
   "execution_count": 12,
   "metadata": {},
   "outputs": [
    {
     "name": "stdout",
     "output_type": "stream",
     "text": [
      " \t Checking All Libraries \n",
      "\n",
      "\n",
      " testing Numpy\n",
      "[[0.4359949  0.02592623 0.54966248]\n",
      " [0.43532239 0.4203678  0.33033482]\n",
      " [0.20464863 0.61927097 0.29965467]\n",
      " [0.26682728 0.62113383 0.52914209]]\n",
      "\n",
      " Testing Pandas\n",
      "          0         1         2\n",
      "0  0.134580  0.513578  0.184440\n",
      "1  0.785335  0.853975  0.494237\n",
      "2  0.846561  0.079645  0.505246\n",
      "3  0.065287  0.428122  0.096531\n",
      "\n",
      " Testing Matplotlib\n",
      "\n",
      " Testing Sklearn library\n",
      "0.8260544003071153\n"
     ]
    },
    {
     "data": {
      "image/png": "[encoded data removed]",
      "text/plain": [
       "<Figure size 432x288 with 1 Axes>"
      ]
     },
     "metadata": {
      "needs_background": "light"
     },
     "output_type": "display_data"
    }
   ],
   "source": [
    "# R2 R-Squared Score\n",
    "import numpy as np\n",
    "from sklearn.metrics import r2_score\n",
    "import pandas as pd\n",
    "import matplotlib.pyplot as plt\n",
    "import seaborn as sns\n",
    "np.random.seed(2)\n",
    "\n",
    "print(\" \\t Checking All Libraries \\n\")\n",
    "\n",
    "#testing Numpy\n",
    "print(\"\\n testing Numpy\")\n",
    "print(np.random.rand(4,3))\n",
    "#Testing Pandas\n",
    "print(\"\\n Testing Pandas\")\n",
    "df = pd.DataFrame(np.random.rand(4,3))\n",
    "print(df)\n",
    "\n",
    "# Testing Matplotlib\n",
    "print(\"\\n Testing Matplotlib\")\n",
    "x = np.random.normal(3,1,100)\n",
    "y = np.random.normal(150,40,100)/x\n",
    "plt.scatter(x,y)\n",
    "\n",
    "\n",
    "# Testing Sklearn library \n",
    "print(\"\\n Testing Sklearn library\")\n",
    "mymodel = np.poly1d(np.polyfit(x,y,4))\n",
    "r2 = r2_score(y,mymodel(x))\n",
    "print(r2)\n",
    "\n",
    "# from sklearn import linear_model\n",
    "# from sklearn.metrics import r2_score\n",
    "# from sklearn.metrics import r2_score\n"
   ]
  },
  {
   "cell_type": "code",
   "execution_count": null,
   "metadata": {},
   "outputs": [],
   "source": []
  },
  {
   "cell_type": "code",
   "execution_count": null,
   "metadata": {},
   "outputs": [],
   "source": []
  }
 ],
 "metadata": {
  "kernelspec": {
   "display_name": "Python 3 (ipykernel)",
   "language": "python",
   "name": "python3"
  },
  "language_info": {
   "codemirror_mode": {
    "name": "ipython",
    "version": 3
   },
   "file_extension": ".py",
   "mimetype": "text/x-python",
   "name": "python",
   "nbconvert_exporter": "python",
   "pygments_lexer": "ipython3",
   "version": "3.9.12"
  },
  "vscode": {
   "interpreter": {
    "hash": "aee8b7b246df8f9039afb4144a1f6fd8d2ca17a180786b69acc140d282b71a49"
   }
  }
 },
 "nbformat": 4,
 "nbformat_minor": 2
}
