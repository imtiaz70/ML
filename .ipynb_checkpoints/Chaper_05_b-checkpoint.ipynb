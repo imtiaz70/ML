{
 "cells": [
  {
   "cell_type": "code",
   "execution_count": 11,
   "id": "4e83a6f9",
   "metadata": {},
   "outputs": [
    {
     "name": "stdout",
     "output_type": "stream",
     "text": [
      "0.7988645544629801\n",
      "This is Muhammad Imtiaz Anwar\n"
     ]
    }
   ],
   "source": [
    "import numpy as np\n",
    "import pandas as pd\n",
    "import matplotlib.pyplot as plt\n",
    "from sklearn.metrics import r2_score\n",
    "np.random.seed(2)\n",
    "X = np.random.normal(3,1,100)\n",
    "y = np.random.normal(150,40,100)/X\n",
    "\n",
    "train_X = X[:80]\n",
    "train_y = y[:80]\n",
    "test_X = X[80:]\n",
    "test_y = y[80:]\n",
    "\n",
    "mymodel = np.poly1d(np.polyfit(train_X,train_y,4))\n",
    "r2 = r2_score(train_y,mymodel(train_X))\n",
    "print(r2)\n",
    "print(\"This is Muhammad Imtiaz Anwar\")"
   ]
  },
  {
   "cell_type": "code",
   "execution_count": null,
   "id": "30fca497",
   "metadata": {},
   "outputs": [],
   "source": []
  }
 ],
 "metadata": {
  "kernelspec": {
   "display_name": "Python 3 (ipykernel)",
   "language": "python",
   "name": "python3"
  },
  "language_info": {
   "codemirror_mode": {
    "name": "ipython",
    "version": 3
   },
   "file_extension": ".py",
   "mimetype": "text/x-python",
   "name": "python",
   "nbconvert_exporter": "python",
   "pygments_lexer": "ipython3",
   "version": "3.9.12"
  }
 },
 "nbformat": 4,
 "nbformat_minor": 5
}
